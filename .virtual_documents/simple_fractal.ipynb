


# standard libraries
import os


# external libraries
import numpy as np
from PIL import Image





# make a complex number
q = complex(7, 3)


q


np.real(q) > -1





# define a function that evaluates z = z^2 + c
def iteration_function(z, c, n, display_value = False):    
    """ EVALUATE z = z^2 + c n times. If after n trials z is less than 100, 
    assume that z does not diverge to infinity.
    z: real number
    c: complex number
    n: number of iterations to check
    display_value: boolean: Switch to print the current value
    """
    it_count = 0
    # set the outcome to zero, meaning it does not diverge
    outcome = 0    
    while it_count <= n and outcome == 0:        
        
        z = z**2 + c
        it_count += 1
        if display_value:
            print(z)
        if np.isfinite(z):
            real_part = abs(np.real(z))
            imag_part = abs(np.imag(z))
            
            if real_part > 10 or imag_part > 10:
                outcome = 1            
        else:
            outcome = 1
    # return the outcome and the number of iterations it took to crest 100
    return (outcome, it_count)
    


# test
iteration_function(z=6, c = complex(-1, -7), n = 100, display_value = True)





# use values in the (-2, 2) interval
my_values = np.linspace(start = -2, stop = 2, num=1000)

n_rows = len(my_values)

output_file_name = 'simple_fractal_bw.bmp'

# create a new blank image n_rows by n_rows with the RGB color depth
img = Image.new('1', (n_rows, n_rows))
pixels = img.load()

# enumerate over the values, create complex numbers, and see which values diverge to infinity
for i_enum, i in enumerate(my_values):
    if i_enum % 100 == 0:
        print(i_enum)
    for j_enum, j in enumerate(my_values):
        #print(i_enum, j_enum)
        outcome = iteration_function(z=0, c = complex(i, j), n = 100, display_value=False)
        
        if outcome[0] == 0:
            # 0 if the value does not diverge: black
            #rgb_tuple = (0,0,0)
            rgb_tuple = 0
        else:
            # 1 if the value does diverge: white
            #rgb_tuple = (255,255,255)
            rgb_tuple = 1
        
        pixels[i_enum, j_enum] = rgb_tuple

# save the image
img.save(output_file_name)
