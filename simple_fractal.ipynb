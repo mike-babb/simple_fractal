{
 "cells": [
  {
   "cell_type": "markdown",
   "metadata": {},
   "source": [
    "# Mike Babb\n",
    "# babbm@uw.edu\n",
    "## use numpy and PIL to visualize the mandelbrot set"
   ]
  },
  {
   "cell_type": "code",
   "execution_count": null,
   "metadata": {},
   "outputs": [],
   "source": [
    "# standard libraries\n",
    "import os"
   ]
  },
  {
   "cell_type": "code",
   "execution_count": null,
   "metadata": {},
   "outputs": [],
   "source": [
    "# external libraries\n",
    "import numpy as np\n",
    "from PIL import Image"
   ]
  },
  {
   "cell_type": "markdown",
   "metadata": {},
   "source": [
    "### output path"
   ]
  },
  {
   "cell_type": "code",
   "execution_count": null,
   "metadata": {},
   "outputs": [],
   "source": [
    "# output path\n",
    "output_path = '/project/finding_anagrams/graphics'"
   ]
  },
  {
   "cell_type": "code",
   "execution_count": null,
   "metadata": {},
   "outputs": [],
   "source": [
    "if os.path.exists(output_path):\n",
    "    pass\n",
    "else:\n",
    "    os.makedirs(output_path)"
   ]
  },
  {
   "cell_type": "code",
   "execution_count": null,
   "metadata": {},
   "outputs": [],
   "source": [
    "# make a complex number\n",
    "q = complex(7, 3)"
   ]
  },
  {
   "cell_type": "code",
   "execution_count": null,
   "metadata": {},
   "outputs": [],
   "source": [
    "q"
   ]
  },
  {
   "cell_type": "code",
   "execution_count": null,
   "metadata": {},
   "outputs": [],
   "source": [
    "np.real(q) > -1"
   ]
  },
  {
   "cell_type": "code",
   "execution_count": null,
   "metadata": {},
   "outputs": [],
   "source": [
    "np.inf > -2"
   ]
  },
  {
   "cell_type": "markdown",
   "metadata": {},
   "source": [
    "### function to evaulate many iterations"
   ]
  },
  {
   "cell_type": "code",
   "execution_count": null,
   "metadata": {},
   "outputs": [],
   "source": [
    "# define a function that evaluates z = z^2 + c\n",
    "def iteration_function(z, c, n, display_value = False):    \n",
    "    \"\"\" EVALUATE z = z^2 + c n times. If after n trials z is less than 100, \n",
    "    assume that z does not diverge to infinity.\n",
    "    \"\"\"\n",
    "    i = 0\n",
    "    # set the outcome to zero, meaning it does not diverge\n",
    "    outcome = 0    \n",
    "    while i <= n and outcome == 0:        \n",
    "        \n",
    "        z = z**2 + c\n",
    "        i += 1\n",
    "        if display_value:\n",
    "            print(z)\n",
    "        if np.isfinite(z):\n",
    "            real_part = np.real(z)\n",
    "            imag_part = np.imag(z)\n",
    "            \n",
    "            if real_part > 100 or imag_part > 100:\n",
    "                outcome = 1            \n",
    "        else:\n",
    "            outcome = 1\n",
    "    # return the outcome and the number of iterations it took to crest 100\n",
    "    return (outcome, i)\n",
    "    "
   ]
  },
  {
   "cell_type": "code",
   "execution_count": null,
   "metadata": {},
   "outputs": [],
   "source": [
    "# test\n",
    "iteration_function(z=6, c = complex(-1, -7), n = 100, display_value = True)"
   ]
  },
  {
   "cell_type": "code",
   "execution_count": null,
   "metadata": {},
   "outputs": [],
   "source": [
    "# use values in the (-2, 2) interval\n",
    "my_values = np.linspace(start = -2, stop = 2, num=1000)"
   ]
  },
  {
   "cell_type": "code",
   "execution_count": null,
   "metadata": {},
   "outputs": [],
   "source": [
    "n_rows = len(my_values)"
   ]
  },
  {
   "cell_type": "markdown",
   "metadata": {},
   "source": [
    "### calculate the Mandelbrot set, save visualization"
   ]
  },
  {
   "cell_type": "code",
   "execution_count": null,
   "metadata": {},
   "outputs": [],
   "source": [
    "output_file_name = 'simple_fractal_bw.bmp'\n",
    "\n",
    "# create a new blank image n_rows by n_rows with the RGB color depth\n",
    "img = Image.new('RGB', (n_rows, n_rows))\n",
    "pixels = img.load()\n",
    "\n",
    "# enumerate over the values, create comlex numbers, and see which values diverge to infinity\n",
    "for i_enum, i in enumerate(my_values):\n",
    "    if i_enum % 100 == 0:\n",
    "        print(i_enum)\n",
    "    for j_enum, j in enumerate(my_values):\n",
    "        #print(i_enum, j_enum)\n",
    "        outcome = iteration_function(z=0, c = complex(i, j), n = 100)\n",
    "        \n",
    "        if outcome[0] == 0:\n",
    "            # 0 if the value does not diverge: black\n",
    "            rgb_tuple = (0,0,0)\n",
    "        else:\n",
    "            # 1 if the value does diverge: white\n",
    "            rgb_tuple = (255,255,255)\n",
    "        \n",
    "        pixels[i_enum, j_enum] = rgb_tuple\n",
    "\n",
    "# save the image\n",
    "ofpn = os.path.join(output_path, output_file_name)\n",
    "img.save(ofpn)"
   ]
  },
  {
   "cell_type": "code",
   "execution_count": null,
   "metadata": {},
   "outputs": [],
   "source": []
  },
  {
   "cell_type": "code",
   "execution_count": null,
   "metadata": {},
   "outputs": [],
   "source": []
  },
  {
   "cell_type": "code",
   "execution_count": null,
   "metadata": {},
   "outputs": [],
   "source": []
  }
 ],
 "metadata": {
  "kernelspec": {
   "display_name": "Python 3.7.6 64-bit ('analysis': conda)",
   "language": "python",
   "name": "python37664bitanalysisconda9de0f707a5a443ea87ec25563936da81"
  },
  "language_info": {
   "codemirror_mode": {
    "name": "ipython",
    "version": 3
   },
   "file_extension": ".py",
   "mimetype": "text/x-python",
   "name": "python",
   "nbconvert_exporter": "python",
   "pygments_lexer": "ipython3",
   "version": "3.8.6"
  }
 },
 "nbformat": 4,
 "nbformat_minor": 4
}
