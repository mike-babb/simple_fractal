{
 "cells": [
  {
   "cell_type": "markdown",
   "metadata": {},
   "source": [
    "# Mike Babb\n",
    "# babbm@uw.edu\n",
    "## use numpy and PIL to visualize the mandelbrot set"
   ]
  },
  {
   "cell_type": "code",
   "execution_count": 1,
   "metadata": {},
   "outputs": [],
   "source": [
    "# standard libraries\n",
    "import os"
   ]
  },
  {
   "cell_type": "code",
   "execution_count": 2,
   "metadata": {},
   "outputs": [],
   "source": [
    "# external libraries\n",
    "import numpy as np\n",
    "from PIL import Image"
   ]
  },
  {
   "cell_type": "markdown",
   "metadata": {},
   "source": [
    "### Demonstrate complex numbers using NUMPY"
   ]
  },
  {
   "cell_type": "code",
   "execution_count": 3,
   "metadata": {},
   "outputs": [],
   "source": [
    "# make a complex number\n",
    "q = complex(7, 3)"
   ]
  },
  {
   "cell_type": "code",
   "execution_count": 4,
   "metadata": {},
   "outputs": [
    {
     "data": {
      "text/plain": [
       "(7+3j)"
      ]
     },
     "execution_count": 4,
     "metadata": {},
     "output_type": "execute_result"
    }
   ],
   "source": [
    "q"
   ]
  },
  {
   "cell_type": "code",
   "execution_count": 5,
   "metadata": {},
   "outputs": [
    {
     "data": {
      "text/plain": [
       "True"
      ]
     },
     "execution_count": 5,
     "metadata": {},
     "output_type": "execute_result"
    }
   ],
   "source": [
    "np.real(q) > -1"
   ]
  },
  {
   "cell_type": "markdown",
   "metadata": {},
   "source": [
    "### function to evaulate many iterations"
   ]
  },
  {
   "cell_type": "code",
   "execution_count": 6,
   "metadata": {},
   "outputs": [],
   "source": [
    "# define a function that evaluates z = z^2 + c\n",
    "def iteration_function(z, c, n, display_value = False):    \n",
    "    \"\"\" EVALUATE z = z^2 + c n times. If after n trials z is less than 100, \n",
    "    assume that z does not diverge to infinity.\n",
    "    z: real number\n",
    "    c: complex number\n",
    "    n: number of iterations to check\n",
    "    display_value: boolean: Switch to print the current value\n",
    "    \"\"\"\n",
    "    it_count = 0\n",
    "    # set the outcome to zero, meaning it does not diverge\n",
    "    outcome = 0    \n",
    "    while it_count <= n and outcome == 0:        \n",
    "        \n",
    "        z = z**2 + c\n",
    "        it_count += 1\n",
    "        if display_value:\n",
    "            print(z)\n",
    "        if np.isfinite(z):\n",
    "            real_part = abs(np.real(z))\n",
    "            imag_part = abs(np.imag(z))\n",
    "            \n",
    "            if real_part > 10 or imag_part > 10:\n",
    "                outcome = 1            \n",
    "        else:\n",
    "            outcome = 1\n",
    "    # return the outcome and the number of iterations it took to crest 100\n",
    "    return (outcome, it_count)\n",
    "    "
   ]
  },
  {
   "cell_type": "code",
   "execution_count": 7,
   "metadata": {},
   "outputs": [
    {
     "name": "stdout",
     "output_type": "stream",
     "text": [
      "(35-7j)\n"
     ]
    },
    {
     "data": {
      "text/plain": [
       "(1, 1)"
      ]
     },
     "execution_count": 7,
     "metadata": {},
     "output_type": "execute_result"
    }
   ],
   "source": [
    "# test\n",
    "iteration_function(z=6, c = complex(-1, -7), n = 100, display_value = True)"
   ]
  },
  {
   "cell_type": "markdown",
   "metadata": {},
   "source": [
    "### calculate the Mandelbrot set, save visualization"
   ]
  },
  {
   "cell_type": "code",
   "execution_count": 8,
   "metadata": {},
   "outputs": [
    {
     "name": "stdout",
     "output_type": "stream",
     "text": [
      "0\n",
      "100\n",
      "200\n",
      "300\n",
      "400\n",
      "500\n",
      "600\n",
      "700\n",
      "800\n",
      "900\n"
     ]
    }
   ],
   "source": [
    "# use values in the (-2, 2) interval\n",
    "my_values = np.linspace(start = -2, stop = 2, num=1000)\n",
    "\n",
    "n_rows = len(my_values)\n",
    "\n",
    "output_file_name = 'simple_fractal_bw.bmp'\n",
    "\n",
    "# create a new blank image n_rows by n_rows with the RGB color depth\n",
    "img = Image.new('1', (n_rows, n_rows))\n",
    "pixels = img.load()\n",
    "\n",
    "# enumerate over the values, create complex numbers, and see which values diverge to infinity\n",
    "for i_enum, i in enumerate(my_values):\n",
    "    if i_enum % 100 == 0:\n",
    "        print(i_enum)\n",
    "    for j_enum, j in enumerate(my_values):\n",
    "        #print(i_enum, j_enum)\n",
    "        outcome = iteration_function(z=0, c = complex(i, j), n = 100, display_value=False)\n",
    "        \n",
    "        if outcome[0] == 0:\n",
    "            # 0 if the value does not diverge: black\n",
    "            #rgb_tuple = (0,0,0)\n",
    "            rgb_tuple = 0\n",
    "        else:\n",
    "            # 1 if the value does diverge: white\n",
    "            #rgb_tuple = (255,255,255)\n",
    "            rgb_tuple = 1\n",
    "        \n",
    "        pixels[i_enum, j_enum] = rgb_tuple\n",
    "\n",
    "# save the image\n",
    "img.save(output_file_name)"
   ]
  }
 ],
 "metadata": {
  "kernelspec": {
   "display_name": "Python 3 (ipykernel)",
   "language": "python",
   "name": "python3"
  },
  "language_info": {
   "codemirror_mode": {
    "name": "ipython",
    "version": 3
   },
   "file_extension": ".py",
   "mimetype": "text/x-python",
   "name": "python",
   "nbconvert_exporter": "python",
   "pygments_lexer": "ipython3",
   "version": "3.12.7"
  }
 },
 "nbformat": 4,
 "nbformat_minor": 4
}
